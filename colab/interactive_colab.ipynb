{
  "nbformat": 4,
  "nbformat_minor": 0,
  "metadata": {
    "kernelspec": {
      "display_name": "Python [conda env:root] *",
      "language": "python",
      "name": "conda-root-py"
    },
    "language_info": {
      "codemirror_mode": {
        "name": "ipython",
        "version": 3
      },
      "file_extension": ".py",
      "mimetype": "text/x-python",
      "name": "python",
      "nbconvert_exporter": "python",
      "pygments_lexer": "ipython3",
      "version": "3.7.7"
    },
    "colab": {
      "name": "interactive_colab.ipynb",
      "provenance": []
    },
    "widgets": {
      "application/vnd.jupyter.widget-state+json": {
        "49e7a44166644c4d8f716cbac954801e": {
          "model_module": "@jupyter-widgets/controls",
          "model_name": "ButtonModel",
          "state": {
            "_view_name": "ButtonView",
            "style": "IPY_MODEL_db31973276524dbaa5f1b39b87379f24",
            "_dom_classes": [],
            "description": "Run!",
            "_model_name": "ButtonModel",
            "button_style": "",
            "_view_module": "@jupyter-widgets/controls",
            "_model_module_version": "1.5.0",
            "tooltip": "",
            "_view_count": null,
            "disabled": false,
            "_view_module_version": "1.5.0",
            "layout": "IPY_MODEL_602032967ba3426c9644785e428d41d3",
            "_model_module": "@jupyter-widgets/controls",
            "icon": ""
          }
        },
        "db31973276524dbaa5f1b39b87379f24": {
          "model_module": "@jupyter-widgets/controls",
          "model_name": "ButtonStyleModel",
          "state": {
            "_view_name": "StyleView",
            "_model_name": "ButtonStyleModel",
            "_view_module": "@jupyter-widgets/base",
            "_model_module_version": "1.5.0",
            "_view_count": null,
            "button_color": null,
            "font_weight": "",
            "_view_module_version": "1.2.0",
            "_model_module": "@jupyter-widgets/controls"
          }
        },
        "602032967ba3426c9644785e428d41d3": {
          "model_module": "@jupyter-widgets/base",
          "model_name": "LayoutModel",
          "state": {
            "_view_name": "LayoutView",
            "grid_template_rows": null,
            "right": null,
            "justify_content": null,
            "_view_module": "@jupyter-widgets/base",
            "overflow": null,
            "_model_module_version": "1.2.0",
            "_view_count": null,
            "flex_flow": null,
            "width": null,
            "min_width": null,
            "border": null,
            "align_items": null,
            "bottom": null,
            "_model_module": "@jupyter-widgets/base",
            "top": null,
            "grid_column": null,
            "overflow_y": null,
            "overflow_x": null,
            "grid_auto_flow": null,
            "grid_area": null,
            "grid_template_columns": null,
            "flex": null,
            "_model_name": "LayoutModel",
            "justify_items": null,
            "grid_row": null,
            "max_height": null,
            "align_content": null,
            "visibility": null,
            "align_self": null,
            "height": null,
            "min_height": null,
            "padding": null,
            "grid_auto_rows": null,
            "grid_gap": null,
            "max_width": null,
            "order": null,
            "_view_module_version": "1.2.0",
            "grid_template_areas": null,
            "object_position": null,
            "object_fit": null,
            "grid_auto_columns": null,
            "margin": null,
            "display": null,
            "left": null
          }
        },
        "d312a6eeb1994d87910e30d87b4b183c": {
          "model_module": "@jupyter-widgets/output",
          "model_name": "OutputModel",
          "state": {
            "_view_name": "OutputView",
            "msg_id": "",
            "_dom_classes": [],
            "_model_name": "OutputModel",
            "outputs": [],
            "_view_module": "@jupyter-widgets/output",
            "_model_module_version": "1.0.0",
            "_view_count": null,
            "_view_module_version": "1.0.0",
            "layout": "IPY_MODEL_e5f051c1416b4a999ab92561b9ef0ca5",
            "_model_module": "@jupyter-widgets/output"
          }
        },
        "e5f051c1416b4a999ab92561b9ef0ca5": {
          "model_module": "@jupyter-widgets/base",
          "model_name": "LayoutModel",
          "state": {
            "_view_name": "LayoutView",
            "grid_template_rows": null,
            "right": null,
            "justify_content": null,
            "_view_module": "@jupyter-widgets/base",
            "overflow": null,
            "_model_module_version": "1.2.0",
            "_view_count": null,
            "flex_flow": null,
            "width": null,
            "min_width": null,
            "border": null,
            "align_items": null,
            "bottom": null,
            "_model_module": "@jupyter-widgets/base",
            "top": null,
            "grid_column": null,
            "overflow_y": null,
            "overflow_x": null,
            "grid_auto_flow": null,
            "grid_area": null,
            "grid_template_columns": null,
            "flex": null,
            "_model_name": "LayoutModel",
            "justify_items": null,
            "grid_row": null,
            "max_height": null,
            "align_content": null,
            "visibility": null,
            "align_self": null,
            "height": null,
            "min_height": null,
            "padding": null,
            "grid_auto_rows": null,
            "grid_gap": null,
            "max_width": null,
            "order": null,
            "_view_module_version": "1.2.0",
            "grid_template_areas": null,
            "object_position": null,
            "object_fit": null,
            "grid_auto_columns": null,
            "margin": null,
            "display": null,
            "left": null
          }
        }
      }
    }
  },
  "cells": [
    {
      "cell_type": "markdown",
      "metadata": {
        "id": "g7J_tU-kokVA"
      },
      "source": [
        "[![Open In Colab](https://colab.research.google.com/assets/colab-badge.svg)](https://colab.research.google.com/github/chicolucio/ReversibleFirstOrder/blob/colab/colab/interactive_colab.ipynb)\n",
        "\n",
        "This notebook was made for use in Google Colab.\n",
        "\n",
        "Original code and more detailed information at [the GitHub repo](https://github.com/chicolucio/ReversibleFirstOrder)\n",
        "\n",
        "### Just click the **Run!** button after running the following cell."
      ]
    },
    {
      "cell_type": "code",
      "metadata": {
        "id": "RXh63_IVokVB",
        "cellView": "form",
        "outputId": "a0d75a0e-2fb5-405d-efdb-d05c0c522e6d",
        "colab": {
          "base_uri": "https://localhost:8080/",
          "height": 166,
          "referenced_widgets": [
            "49e7a44166644c4d8f716cbac954801e",
            "db31973276524dbaa5f1b39b87379f24",
            "602032967ba3426c9644785e428d41d3",
            "d312a6eeb1994d87910e30d87b4b183c",
            "e5f051c1416b4a999ab92561b9ef0ca5"
          ]
        }
      },
      "source": [
        "#@title {run: 'auto'}\n",
        "#@markdown ### Click the arrow to run\n",
        "!git clone https://github.com/chicolucio/ReversibleFirstOrder\n",
        "%cd ReversibleFirstOrder\n",
        "\n",
        "from reversible_first_order import ReversibleFirstOrder\n",
        "\n",
        "from ipywidgets import interact, interactive, fixed\n",
        "import ipywidgets\n",
        "import matplotlib.pyplot as plt\n",
        "\n",
        "from IPython.display import display\n",
        "\n",
        "button = ipywidgets.Button(description=\"Run!\")\n",
        "output = ipywidgets.Output()\n",
        "\n",
        "def plot_interactive(kf=1, kb=1, A0=1, B0=0, time=5):\n",
        "    instance = ReversibleFirstOrder(kf, kb, A0, B0, time)\n",
        "    fig, arr = plt.subplots(nrows=1, ncols=2, figsize=(14,6), constrained_layout=True, facecolor=(1,1,1))\n",
        "    instance.plot_reaction_time(ax=arr[0], title_text=r'Concentration vs time for A $\\rightleftarrows$ B',\n",
        "                                label_reactant='A', label_product='B')\n",
        "    instance.plot_reaction_quotient_time(ax=arr[1], title_text=r'Reaction quotient vs time for A $\\rightleftarrows$ B',)\n",
        "    plt.show()\n",
        "    \n",
        "\n",
        "def on_button_clicked(b):\n",
        "    with output:\n",
        "        graph = interactive(plot_interactive,\n",
        "                            time=fixed(5),\n",
        "                            kf=(1,10,1),\n",
        "                            kb=(1,10,1),\n",
        "                            A0=(0,10,1),\n",
        "                            B0=(0,10,1))\n",
        "        display(graph)\n",
        "\n",
        "button.on_click(on_button_clicked)\n",
        "display(button, output)"
      ],
      "execution_count": 3,
      "outputs": [
        {
          "output_type": "stream",
          "text": [
            "Cloning into 'ReversibleFirstOrder'...\n",
            "remote: Enumerating objects: 29, done.\u001b[K\n",
            "remote: Counting objects: 100% (29/29), done.\u001b[K\n",
            "remote: Compressing objects: 100% (18/18), done.\u001b[K\n",
            "remote: Total 29 (delta 10), reused 28 (delta 9), pack-reused 0\u001b[K\n",
            "Unpacking objects: 100% (29/29), done.\n",
            "/content/ReversibleFirstOrder/ReversibleFirstOrder/ReversibleFirstOrder\n"
          ],
          "name": "stdout"
        },
        {
          "output_type": "display_data",
          "data": {
            "application/vnd.jupyter.widget-view+json": {
              "model_id": "49e7a44166644c4d8f716cbac954801e",
              "version_minor": 0,
              "version_major": 2
            },
            "text/plain": [
              "Button(description='Run!', style=ButtonStyle())"
            ]
          },
          "metadata": {
            "tags": []
          }
        },
        {
          "output_type": "display_data",
          "data": {
            "application/vnd.jupyter.widget-view+json": {
              "model_id": "d312a6eeb1994d87910e30d87b4b183c",
              "version_minor": 0,
              "version_major": 2
            },
            "text/plain": [
              "Output()"
            ]
          },
          "metadata": {
            "tags": []
          }
        }
      ]
    }
  ]
}