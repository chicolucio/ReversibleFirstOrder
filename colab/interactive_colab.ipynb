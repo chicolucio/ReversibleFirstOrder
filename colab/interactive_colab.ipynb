{
 "cells": [
  {
   "cell_type": "markdown",
   "metadata": {
    "id": "g7J_tU-kokVA"
   },
   "source": [
    "<a href=\"https://colab.research.google.com/github/chicolucio/ReversibleFirstOrder/blob/colab/colab/interactive_colab.ipynb\" target=\"_parent\">\n",
    "  <img src=\"https://colab.research.google.com/assets/colab-badge.svg\" alt=\"Open In Colab\"/>\n",
    "</a>\n",
    "\n",
    "This notebook was made for use in Google Colab.\n",
    "\n",
    "Original code and more detailed information at [the GitHub repo](https://github.com/chicolucio/ReversibleFirstOrder)\n",
    "\n",
    "### Just run the following cell."
   ]
  },
  {
   "cell_type": "code",
   "execution_count": null,
   "metadata": {
    "cellView": "form",
    "id": "RXh63_IVokVB"
   },
   "outputs": [],
   "source": [
    "#@title {run: 'auto'}\n",
    "#@markdown ### Click the arrow to run\n",
    "!git clone https://github.com/chicolucio/ReversibleFirstOrder &> /dev/null\n",
    "%cd -q ReversibleFirstOrder\n",
    "\n",
    "from reversible_first_order import ReversibleFirstOrder\n",
    "\n",
    "from ipywidgets import interact, interactive, fixed\n",
    "import ipywidgets\n",
    "import matplotlib.pyplot as plt\n",
    "\n",
    "from IPython.display import display\n",
    "\n",
    "def plot_interactive(kf=1, kb=1, A0=1, B0=0, time=5):\n",
    "    instance = ReversibleFirstOrder(kf, kb, A0, B0, time)\n",
    "    fig, arr = plt.subplots(nrows=1, ncols=2, figsize=(14,6), constrained_layout=True, facecolor=(1,1,1))\n",
    "    instance.plot_reaction_time(ax=arr[0], title_text=r'Concentration vs time for A $\\rightleftarrows$ B',\n",
    "                                label_reactant='A', label_product='B')\n",
    "    instance.plot_reaction_quotient_time(ax=arr[1], title_text=r'Reaction quotient vs time for A $\\rightleftarrows$ B',)\n",
    "    plt.show()\n",
    "    \n",
    "\n",
    "graph = interactive(plot_interactive,\n",
    "                    time=fixed(5),\n",
    "                    kf=(1,10,1),\n",
    "                    kb=(1,10,1),\n",
    "                    A0=(0,10,1),\n",
    "                    B0=(0,10,1))\n",
    "display(graph)\n",
    "\n"
   ]
  }
 ],
 "metadata": {
  "colab": {
   "name": "interactive_colab.ipynb",
   "provenance": []
  },
  "kernelspec": {
   "display_name": "Python 3",
   "language": "python",
   "name": "python3"
  },
  "language_info": {
   "codemirror_mode": {
    "name": "ipython",
    "version": 3
   },
   "file_extension": ".py",
   "mimetype": "text/x-python",
   "name": "python",
   "nbconvert_exporter": "python",
   "pygments_lexer": "ipython3",
   "version": "3.7.7"
  }
 },
 "nbformat": 4,
 "nbformat_minor": 4
}
